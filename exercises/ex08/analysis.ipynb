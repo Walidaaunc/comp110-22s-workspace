{
 "cells": [
  {
   "cell_type": "markdown",
   "metadata": {},
   "source": [
    "# Analysis for Continuous Improvement\n",
    "\n",
    "Author Name: Walid Ait Amrou\n",
    "\n",
    "9-digit PID: 730507751\n",
    "\n",
    "Continuous Improvement embraces a belief there is _always room to make things better_. It is a mindset and process we value and practice in this course. In this assignment, you are able to practice continuous improvement and contribute to the design ideas of the course.\n",
    "\n",
    "## Brainstorming Ideas\n",
    "\n",
    "Reflect on your personal experiences and observations in COMP110 and **brainstorm modifications to the course that _create value_ beyond its current design**. When brainstorming, try not to be critical of the ideas you come up with regarding scale, stakeholders impacted, or for any other reasons. In the markdown cell below, brainstorm 3 to 5 ideas you think would create value for you.\n",
    "\n",
    "Each brainstormed idea should state a. the suggested change or addition, b. what the expected value created, and c. which specific stakeholders would benefit.  If helpful, expand on the following template \"The course should (state idea here) because it will (state value created here) for (insert stakeholders here).\"\n",
    "\n",
    "Example A: \"The course should use only examples from psychology experiments because it will be more relevant for students who are psychology majors.\"\n",
    "\n",
    "Example B: \"The course should not have post-lesson questions because they are not useful for most students in the class.\""
   ]
  },
  {
   "cell_type": "markdown",
   "metadata": {},
   "source": [
    "### Part 1. Creative Ideation\n",
    "\n",
    "1. The course should be offered exclusively as a virtual course, which would benefit most students for the practicality of virtual classes (i.e., cutting commuting time).\n",
    "2. The course should prioritize introducing fewer topics to raise the average performance of the students in this class and promote mastery, thus enabling the students enrolled to be better prepared when enrolling in the courses that mandate COMP 110 as a pre-requisite.\n",
    "3. The course should exclude the writing portions on the reading assignment to ease the workload of the instructional staff.\n",
    "4. The course should introduce a practical project contributed by the entire classroom that could seek to solve a problem that UNC currently faces. That mentioned earlier would, in turn, benefit the academic institution and the societal workforce—by equipping the students with real-world experience.\n",
    "5. The course should offer more practice in the study guide(s) to better prepare the students with the examinations."
   ]
  },
  {
   "cell_type": "markdown",
   "metadata": {},
   "source": [
    "## Connecting with Available Data\n",
    "\n",
    "The data you have available for this analysis is limited to the anonymized course survey you and your peers filled out a few weeks ago. The data is found in the `survey.csv` file in this exercise directory. Each row represents an individual survey response. Each column has a description which can be found on the project write-up here: <https://22s.comp110.com/exercises/ex08.html>\n",
    "\n",
    "Review the list of available data and identify which one of your ideas _does not_, or is _least likely to_, have relevant data to support the analysis of your idea to create value. In the box below, identify which of your ideas lacks data and suggest how we might be able to collect this data in the future. One aspect of _continuous improvement_ is trying to avoid \"tunnel vision\" where possible improvements are not considered because there is no data available to analyze it. Identifying new data sources can unlock improvements!"
   ]
  },
  {
   "cell_type": "markdown",
   "metadata": {},
   "source": [
    "### Part 2. Identifying Missing Data\n",
    "\n",
    "1. Idea without sufficient data to analyze: The opinion about \"the course excluding the reading assignments' writing portions to ease the workload of the instructional staff\" is the least likely to have relevant data (with what has been given) to back its claim as the analysis of this idea would require the thoughts of the instructional staff.\n",
    "\n",
    "2. Suggestion for how to collect data to support this idea in the future: I would propose a new survey be established solely for the instructional staff with queries set to obtain their views and opinions. About this idea, I would desire that survey to include the opinions of the instructional staff on how they feel about their obligations' workload and whether they favor grading the reading assignments or not."
   ]
  },
  {
   "cell_type": "markdown",
   "metadata": {},
   "source": [
    "## Choosing an Idea to Analyze\n",
    "\n",
    "Consider those of your ideas which _do_ seem likely to have relevant data to analyze. If none of your ideas do, spend a few minutes and brainstorm another idea or two with the added connection of data available on hand and add those ideas to your brainstormed ideas list.\n",
    "\n",
    "Select the one idea which you believe is _most valuable_ to analyze relative to the others and has data to support the analysis of. In the markdown cell for Part 3 below, identify the idea you are exploring and articulate why you believe it is most valuable (e.g. widest impact, biggest opportunity for improvement, simplest change for significant improvement, and so on)."
   ]
  },
  {
   "cell_type": "markdown",
   "metadata": {},
   "source": [
    "### Part 3. Choosing Your Analysis\n",
    "\n",
    "1. Idea to analyze with available data: The idea of \"the course prioritizing the introduction of fewer topics to raise the average performance of the students in this class and promote mastery...\" appears to be relevant to many of the data in the data list. Some of the information that can help analyze the idea, as mentioned earlier, are office_hour_visits, pace, difficulty, and understanding.\n",
    "\n",
    "2. This idea is more valuable than the others brainstormed because: The idea mentioned above is more valuable than others as it offers the most significant opportunity for improvement and would have a broad impact for many years to come.\n"
   ]
  },
  {
   "cell_type": "markdown",
   "metadata": {},
   "source": [
    "## Your Analysis\n",
    "\n",
    "Before you begin analysis, a reminder that we do not expect the data to support everyone's ideas and you can complete this exercise for full credit even if the data does not clearly support your suggestion or even completely refutes it. What we are looking for is a logical attempt to explore the data using the techniques you have learned up until now in a way that _either_ supports, refutes, or does not have a clear result and then to reflect on your findings after the analysis.\n",
    "\n",
    "Using the utility functions you created for the previous exercise, you will continue with your analysis in the following part. Before you begin, refer to the rubric on the technical expectations of this section in the exercise write-up.\n",
    "\n",
    "In this section, you are expected to interleave code and markdown cells such that for each step of your analysis you are starting with an English description of what you are planning to do next in a markdown cell, followed by a Python cell that performs that step of the analysis."
   ]
  },
  {
   "cell_type": "markdown",
   "metadata": {},
   "source": [
    "### Part 4. Analysis\n",
    "\n",
    "We begin by changing some settings in the notebook to automatically reload changes to imported files."
   ]
  },
  {
   "cell_type": "code",
   "execution_count": 54,
   "metadata": {},
   "outputs": [],
   "source": [
    "%reload_ext autoreload\n",
    "%autoreload 2"
   ]
  },
  {
   "cell_type": "markdown",
   "metadata": {},
   "source": [
    "We continue by importing the helper functions from `data_utils`."
   ]
  },
  {
   "cell_type": "code",
   "execution_count": 55,
   "metadata": {},
   "outputs": [],
   "source": [
    "from data_utils import read_csv_rows, column_values, columnar, head, select, concat, count, sorted_dictionary"
   ]
  },
  {
   "cell_type": "markdown",
   "metadata": {},
   "source": [
    "Next, ... (you take it from here and add additional code and markdown cells to read in the CSV file and process it as needed)"
   ]
  },
  {
   "cell_type": "code",
   "execution_count": 78,
   "metadata": {},
   "outputs": [],
   "source": [
    "SURVEY_DATA_CSV_FILE_PATH: str = \"../../data/survey.csv\""
   ]
  },
  {
   "cell_type": "markdown",
   "metadata": {},
   "source": [
    "Verifies that the survey's data list is valid by checking if the first five responses concerning the oh_visits are random."
   ]
  },
  {
   "cell_type": "code",
   "execution_count": 92,
   "metadata": {},
   "outputs": [
    {
     "name": "stdout",
     "output_type": "stream",
     "text": [
      "['0', '5', '2', '1', '5']\n"
     ]
    }
   ],
   "source": [
    "table: list[dict[str, str]] = read_csv_rows(SURVEY_DATA_CSV_FILE_PATH)\n",
    "columnized: dict[str, list[str]] = columnar(table)\n",
    "shorten: dict[str, list[str]] = head(columnized, 5)\n",
    "print(shorten['oh_visits'])"
   ]
  },
  {
   "cell_type": "markdown",
   "metadata": {},
   "source": [
    "Presenting the responses of oh_visits in a sorted list with the str portion of the tuple being the scores and the integer portion of the tuple being the frequencies."
   ]
  },
  {
   "cell_type": "code",
   "execution_count": 87,
   "metadata": {},
   "outputs": [
    {
     "name": "stdout",
     "output_type": "stream",
     "text": [
      "[('0', 237), ('1', 163), ('2', 95), ('3', 71), ('4', 26), ('5', 28)]\n"
     ]
    }
   ],
   "source": [
    "table: list[dict[str, str]] = read_csv_rows(SURVEY_DATA_CSV_FILE_PATH)\n",
    "columnized: dict[str, list[str]] = columnar(table)\n",
    "first_var: list[str] = column_values(table, \"oh_visits\")\n",
    "second_var: dict[str, int] = count(first_var)\n",
    "print(sorted_dictionary(second_var))"
   ]
  },
  {
   "cell_type": "markdown",
   "metadata": {},
   "source": [
    "Verifies that the survey's data list is valid by checking if the first five responses concerning the pace are random."
   ]
  },
  {
   "cell_type": "code",
   "execution_count": 93,
   "metadata": {},
   "outputs": [
    {
     "name": "stdout",
     "output_type": "stream",
     "text": [
      "['1', '6', '6', '4', '6']\n"
     ]
    }
   ],
   "source": [
    "table: list[dict[str, str]] = read_csv_rows(SURVEY_DATA_CSV_FILE_PATH)\n",
    "columnized: dict[str, list[str]] = columnar(table)\n",
    "shorten: dict[str, list[str]] = head(columnized, 5)\n",
    "print(shorten['pace'])"
   ]
  },
  {
   "cell_type": "markdown",
   "metadata": {},
   "source": [
    "Presenting the responses of pace in a sorted list with the str portion of the tuple being the scores and the integer portion of the tuple being the frequencies."
   ]
  },
  {
   "cell_type": "code",
   "execution_count": 88,
   "metadata": {},
   "outputs": [
    {
     "name": "stdout",
     "output_type": "stream",
     "text": [
      "[('1', 2), ('2', 9), ('3', 27), ('4', 173), ('5', 203), ('6', 137), ('7', 69)]\n"
     ]
    }
   ],
   "source": [
    "table: list[dict[str, str]] = read_csv_rows(SURVEY_DATA_CSV_FILE_PATH)\n",
    "columnized: dict[str, list[str]] = columnar(table)\n",
    "first_var: list[str] = column_values(table, \"pace\")\n",
    "second_var: dict[str, int] = count(first_var)\n",
    "print(sorted_dictionary(second_var))"
   ]
  },
  {
   "cell_type": "markdown",
   "metadata": {},
   "source": [
    "Verifies that the survey's data list is valid by checking if the first five responses concerning the difficulty are random."
   ]
  },
  {
   "cell_type": "code",
   "execution_count": 94,
   "metadata": {},
   "outputs": [
    {
     "name": "stdout",
     "output_type": "stream",
     "text": [
      "['1', '6', '4', '4', '5']\n"
     ]
    }
   ],
   "source": [
    "table: list[dict[str, str]] = read_csv_rows(SURVEY_DATA_CSV_FILE_PATH)\n",
    "columnized: dict[str, list[str]] = columnar(table)\n",
    "shorten: dict[str, list[str]] = head(columnized, 5)\n",
    "print(shorten['difficulty'])"
   ]
  },
  {
   "cell_type": "markdown",
   "metadata": {},
   "source": [
    "Presenting the responses of difficulty in a sorted list with the str portion of the tuple being the scores and the integer portion of the tuple being the frequencies."
   ]
  },
  {
   "cell_type": "code",
   "execution_count": 90,
   "metadata": {},
   "outputs": [
    {
     "name": "stdout",
     "output_type": "stream",
     "text": [
      "[('1', 23), ('2', 54), ('3', 84), ('4', 160), ('5', 155), ('6', 88), ('7', 56)]\n"
     ]
    }
   ],
   "source": [
    "table: list[dict[str, str]] = read_csv_rows(SURVEY_DATA_CSV_FILE_PATH)\n",
    "columnized: dict[str, list[str]] = columnar(table)\n",
    "first_var: list[str] = column_values(table, \"difficulty\")\n",
    "second_var: dict[str, int] = count(first_var)\n",
    "print(sorted_dictionary(second_var))"
   ]
  },
  {
   "cell_type": "markdown",
   "metadata": {},
   "source": [
    "Verifies that the survey's data list is valid by checking if the first five responses concerning the understanding are random."
   ]
  },
  {
   "cell_type": "code",
   "execution_count": 97,
   "metadata": {},
   "outputs": [
    {
     "name": "stdout",
     "output_type": "stream",
     "text": [
      "['7', '3', '6', '5', '5']\n"
     ]
    }
   ],
   "source": [
    "table: list[dict[str, str]] = read_csv_rows(SURVEY_DATA_CSV_FILE_PATH)\n",
    "columnized: dict[str, list[str]] = columnar(table)\n",
    "shorten: dict[str, list[str]] = head(columnized, 5)\n",
    "print(shorten['understanding'])"
   ]
  },
  {
   "cell_type": "markdown",
   "metadata": {},
   "source": [
    "Presenting the responses of understanding in a sorted list with the str portion of the tuple being the scores and the integer portion of the tuple being the frequencies."
   ]
  },
  {
   "cell_type": "code",
   "execution_count": 89,
   "metadata": {},
   "outputs": [
    {
     "name": "stdout",
     "output_type": "stream",
     "text": [
      "[('1', 14), ('2', 28), ('3', 68), ('4', 82), ('5', 172), ('6', 182), ('7', 74)]\n"
     ]
    }
   ],
   "source": [
    "table: list[dict[str, str]] = read_csv_rows(SURVEY_DATA_CSV_FILE_PATH)\n",
    "columnized: dict[str, list[str]] = columnar(table)\n",
    "first_var: list[str] = column_values(table, \"understanding\")\n",
    "second_var: dict[str, int] = count(first_var)\n",
    "print(sorted_dictionary(second_var))"
   ]
  },
  {
   "cell_type": "markdown",
   "metadata": {},
   "source": [
    "## Conclusion\n",
    "\n",
    "In the following markdown cell, write a reflective conclusion given the analysis you performed and identify recommendations.\n",
    "\n",
    "If your analysis of the data supports your idea, state your recommendation for the change and summarize the data analysys results you found which support it. Additionally, describe any extensions or refinements to this idea which might be explored further. Finally, discuss the potential costs, trade-offs, or stakeholders who may be negatively impacted by this proposed change.\n",
    "\n",
    "If your analysis of the data is inconclusive, summarize why your data analysis results were inconclusive in the support of your idea. Additionally, describe what experimental idea implementation or additional data collection might help build more confidence in assessing your idea. Finally, discuss the potential costs, trade-offs, or stakeholders who may be negatively impacted by experimenting with your idea.\n",
    "\n",
    "Finally, if your analysis of the data does not support it, summarize your data analysis results and why it refutes your idea. Discuss the potential costs, trade-offs, or stakeholders who may be negatively impacted by this proposed change. If you disagree with the validity of the findings, describe why your idea still makes sense to implement and what alternative data would better support it. If you agree with the validity of the data analysis, describe what alternate ideas or extensions you would explore instead. "
   ]
  },
  {
   "cell_type": "markdown",
   "metadata": {},
   "source": [
    "### Part 5. Conclusion\n",
    "\n"
   ]
  }
 ],
 "metadata": {
  "interpreter": {
   "hash": "aee8b7b246df8f9039afb4144a1f6fd8d2ca17a180786b69acc140d282b71a49"
  },
  "kernelspec": {
   "display_name": "Python 3.10.2 64-bit",
   "language": "python",
   "name": "python3"
  },
  "language_info": {
   "codemirror_mode": {
    "name": "ipython",
    "version": 3
   },
   "file_extension": ".py",
   "mimetype": "text/x-python",
   "name": "python",
   "nbconvert_exporter": "python",
   "pygments_lexer": "ipython3",
   "version": "3.10.2"
  },
  "orig_nbformat": 4
 },
 "nbformat": 4,
 "nbformat_minor": 2
}
